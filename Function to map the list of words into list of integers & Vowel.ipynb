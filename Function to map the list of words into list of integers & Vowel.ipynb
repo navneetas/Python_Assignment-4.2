{
 "cells": [
  {
   "cell_type": "code",
   "execution_count": 23,
   "metadata": {},
   "outputs": [
    {
     "name": "stdout",
     "output_type": "stream",
     "text": [
      "Enter list of words separated by comma: ee,rrr,qqq\n",
      "[2, 3, 3]\n"
     ]
    }
   ],
   "source": [
    "words = input(\"Enter list of words separated by comma: \")\n",
    "list1 = words.split(\",\")\n",
    "print (length_word(list1)) \n",
    "\n",
    "def length_word(list1):      \n",
    "    lengths = []\n",
    "    for word in list1:\n",
    "        lengths.append(len(word))\n",
    "    return lengths\n",
    "\n",
    "\n"
   ]
  },
  {
   "cell_type": "code",
   "execution_count": 10,
   "metadata": {},
   "outputs": [
    {
     "name": "stdout",
     "output_type": "stream",
     "text": [
      "Enter any character:  e\n",
      "True\n"
     ]
    }
   ],
   "source": [
    "char = input(\"Enter any character:  \")\n",
    "output = Vowel(char)\n",
    "print(output)\n",
    "\n",
    "def Vowel(char):\n",
    "    if char.lower()in \"aeiou\":\n",
    "        return True\n",
    "    else:\n",
    "        return False\n"
   ]
  },
  {
   "cell_type": "code",
   "execution_count": null,
   "metadata": {},
   "outputs": [],
   "source": []
  },
  {
   "cell_type": "code",
   "execution_count": null,
   "metadata": {},
   "outputs": [],
   "source": []
  }
 ],
 "metadata": {
  "kernelspec": {
   "display_name": "Python 3",
   "language": "python",
   "name": "python3"
  },
  "language_info": {
   "codemirror_mode": {
    "name": "ipython",
    "version": 3
   },
   "file_extension": ".py",
   "mimetype": "text/x-python",
   "name": "python",
   "nbconvert_exporter": "python",
   "pygments_lexer": "ipython3",
   "version": "3.6.4"
  }
 },
 "nbformat": 4,
 "nbformat_minor": 2
}
